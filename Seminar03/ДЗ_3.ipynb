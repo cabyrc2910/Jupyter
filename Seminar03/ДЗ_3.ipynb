{
 "cells": [
  {
   "cell_type": "code",
   "execution_count": null,
   "metadata": {},
   "outputs": [],
   "source": []
  }
 ],
 "metadata": {
  "kernelspec": {
   "display_name": "Python 3",
   "language": "python",
   "name": "python3"
  },
  "language_info": {
   "name": "python",
   "version": "3.11.2"
  },
  "orig_nbformat": 4,
  "vscode": {
   "interpreter": {
    "hash": "30655b0c1fc2685b8435d376e469386ca5c88e793c70994a8dc7dceabeb10022"
   }
  }
 },
 "nbformat": 4,
 "nbformat_minor": 2
}
